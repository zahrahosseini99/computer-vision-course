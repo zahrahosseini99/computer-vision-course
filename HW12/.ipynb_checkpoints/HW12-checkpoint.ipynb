{
 "cells": [
  {
   "cell_type": "markdown",
   "metadata": {},
   "source": [
    "# HomeWork 12\n",
    "\n",
    "**DeadLine : 23:59 27 Azar 1399**\n",
    "\n",
    "**Total points : 100pts**"
   ]
  },
  {
   "cell_type": "markdown",
   "metadata": {},
   "source": [
    "Import some prerequisites:"
   ]
  },
  {
   "cell_type": "code",
   "execution_count": 2,
   "metadata": {},
   "outputs": [],
   "source": [
    "import cv2\n",
    "import numpy as np\n",
    "import matplotlib.pyplot as plt\n",
    "from sklearn.svm import LinearSVC\n",
    "import pandas as pd\n",
    "import seaborn as sn\n",
    "import os\n",
    "import time"
   ]
  },
  {
   "cell_type": "markdown",
   "metadata": {},
   "source": [
    "Run this cell for plotting."
   ]
  },
  {
   "cell_type": "code",
   "execution_count": 3,
   "metadata": {},
   "outputs": [],
   "source": [
    "def plotter(img_list, r, w, gray, wr, hr, fig_name = None):\n",
    "    '''\n",
    "    Plots images' list with its' caption and saves result image if you want.\n",
    "\n",
    "    Parameters:\n",
    "        img_list (list): The list of tuples of image and its' caption.\n",
    "        r (int): The number of row(s).\n",
    "        w (int): The number of colunm(s).\n",
    "        gray (bool): The flag for plotting images in grayscale mode.\n",
    "        wr (int): The width of one figure.\n",
    "        hr (int): The height of one figure.\n",
    "        fig_name (str): The name of the image of the plot. if not set this parameter the plot doesn't save.\n",
    "    '''\n",
    "    \n",
    "    plt.rcParams['figure.figsize'] = (wr, hr)\n",
    "    for i in range(len(img_list)):\n",
    "        plt.subplot(r, w, i + 1)\n",
    "        if img_list[i][2] == 'img':\n",
    "            if gray:\n",
    "                plt.imshow(img_list[i][0], cmap = 'gray')\n",
    "            else:\n",
    "                plt.imshow(img_list[i][0])\n",
    "            plt.xticks([])\n",
    "            plt.yticks([])\n",
    "        elif img_list[i][2] == 'hist':\n",
    "            plt.bar(np.arange(len(img_list[i][0])), img_list[i][0], color = 'c')\n",
    "        else:\n",
    "            raise Exception(\"Only image or histogram. Use third parameter of tuples in img_list and set it to img or hist.\")\n",
    "        plt.title(img_list[i][1])\n",
    "    if fig_name is not None:\n",
    "        plt.savefig(fig_name + '.png')\n",
    "    plt.show()"
   ]
  },
  {
   "cell_type": "markdown",
   "metadata": {},
   "source": [
    "Run this cell for plotting evaluation."
   ]
  },
  {
   "cell_type": "code",
   "execution_count": 4,
   "metadata": {},
   "outputs": [],
   "source": [
    "from sklearn.metrics import accuracy_score,confusion_matrix\n",
    "def evaluation(y_test, y_pred, fig_name, title):\n",
    "    '''\n",
    "    Prints accuracy and plots confusion matrix and saves result image.\n",
    "\n",
    "    Parameters:\n",
    "        y_test (numpy.ndarray) : test labels (ground truth)\n",
    "        y_pred (numpy.ndarray) : predicted labels \n",
    "        fig_name (str): The name of the image of the plot.\n",
    "        title (str): The caption of the plot.\n",
    "    '''\n",
    "\n",
    "    acc = accuracy_score(y_test, y_pred)\n",
    "    cm = confusion_matrix(y_test, y_pred)\n",
    "    print('Accuracy for', title, '=', acc * 100)\n",
    "    df_cm = pd.DataFrame(cm, range(10), range(10))\n",
    "    plt.figure(figsize = (10, 7))\n",
    "    sn.set(font_scale = 1.4) # for label size\n",
    "    sn.heatmap(df_cm , annot = True, annot_kws = {\"size\" : 16}, fmt = 'g') # font size\n",
    "    plt.title(title)\n",
    "    plt.savefig(fig_name + '.png')\n",
    "    plt.show()"
   ]
  },
  {
   "cell_type": "markdown",
   "metadata": {},
   "source": [
    "# PART 3"
   ]
  },
  {
   "cell_type": "markdown",
   "metadata": {},
   "source": [
    "Here is for your helper functions(optional)"
   ]
  },
  {
   "cell_type": "code",
   "execution_count": 5,
   "metadata": {},
   "outputs": [],
   "source": [
    "import matplotlib.pyplot as plt\n",
    "from skimage.feature import hog\n",
    "from skimage import data, exposure\n",
    "from tqdm import tqdm\n",
    "from sklearn import svm\n",
    "from skimage import color"
   ]
  },
  {
   "cell_type": "markdown",
   "metadata": {},
   "source": [
    "Classify images with HOG."
   ]
  },
  {
   "cell_type": "code",
   "execution_count": 6,
   "metadata": {},
   "outputs": [],
   "source": [
    "def classify_hog(x_train, y_train, x_test):\n",
    "    '''\n",
    "    Classifies images with HOG.\n",
    "    \n",
    "    Parameters:\n",
    "        x_train(numpy.ndarray) : train data\n",
    "        y_train(numpy.ndarray) : train labels\n",
    "        x_test(numpy.ndarray) : test data\n",
    "        \n",
    "    outputs:\n",
    "        predicted_labels(numpy.ndarray): labels that predicted\n",
    "    '''\n",
    "    \n",
    "    x_t = x_train.copy()\n",
    "    y_t = y_train.copy()\n",
    "    x_te = x_test.copy()\n",
    "    predicted_labels = None\n",
    "    \n",
    "    #Write your code here\n",
    "    x_test = [ color.rgb2gray(i) for i in x_te]\n",
    "    ppc = 8\n",
    "    hog_images_train = []\n",
    "    hog_features_train = []\n",
    "    \n",
    "    for image in tqdm(x_train):\n",
    "        fd,hog_image = hog(image, orientations=8, pixels_per_cell=(ppc,ppc),cells_per_block=(3, 3),block_norm= 'L2',visualize=True)\n",
    "        hog_images_train.append(hog_image)\n",
    "        hog_features_train.append(fd)\n",
    "        \n",
    "    hog_images = []\n",
    "    hog_features = []\n",
    "    \n",
    "    for image in tqdm(x_test):\n",
    "        fd,hog_image = hog(image, orientations=8, pixels_per_cell=(ppc,ppc),cells_per_block=(3, 3),block_norm= 'L2',visualize=True)\n",
    "        hog_images.append(hog_image)\n",
    "        hog_features.append(fd)     \n",
    "    \n",
    "    clf = svm.SVC()\n",
    "    print(type(hog_features_train))\n",
    "    clf.fit(hog_features_train,y_train)\n",
    "    y_pred = clf.predict(hog_features)\n",
    "\n",
    "    return y_pred    "
   ]
  },
  {
   "cell_type": "markdown",
   "metadata": {},
   "source": [
    "Classify images using shape descriptors."
   ]
  },
  {
   "cell_type": "code",
   "execution_count": 7,
   "metadata": {},
   "outputs": [],
   "source": [
    "def classify_shape_desc(x_train, y_train, x_test):\n",
    "    '''\n",
    "    Classifies images by using shape descriptors.\n",
    "    \n",
    "    Parameters:\n",
    "        x_train(numpy.ndarray) : train data\n",
    "        y_train(numpy.ndarray) : train labels\n",
    "        x_test(numpy.ndarray) : test data\n",
    "        \n",
    "    outputs:\n",
    "        predicted_labels(numpy.ndarray): labels that predicted\n",
    "    '''\n",
    "    \n",
    "    x_t = x_train.copy()\n",
    "    y_t = y_train.copy()\n",
    "    x_te = x_test.copy()\n",
    "    predicted_labels = None\n",
    "    \n",
    "    #Write your code here\n",
    "    images_train = []\n",
    "    features_train = []\n",
    "    \n",
    "    for image in tqdm(x_train):\n",
    "        blur = cv2.GaussianBlur(image,(3,3),0)\n",
    "        ret, thresh = cv2.threshold(blur, 127, 255, 0)\n",
    "        contours, _ = cv2.findContours(thresh,cv2.RETR_EXTERNAL,cv2.CHAIN_APPROX_NONE)\n",
    "        area = cv2.contourArea(contours[0])\n",
    "        perimeter = cv2.arcLength(contours[0],True)\n",
    "        images_train.append([perimeter,area])\n",
    "        \n",
    "    images_test = []\n",
    "    features_test = []\n",
    "    \n",
    "    for image in tqdm(x_test):\n",
    "        blur = cv2.GaussianBlur(image,(3,3),0)\n",
    "        ret, thresh = cv2.threshold(blur, 127, 255, 0)\n",
    "        contours, _ = cv2.findContours(thresh,cv2.RETR_EXTERNAL,cv2.CHAIN_APPROX_NONE)\n",
    "        area = cv2.contourArea(contours[0])\n",
    "        perimeter = cv2.arcLength(contours[0],True)\n",
    "        images_test.append([perimeter,area])\n",
    "\n",
    "    \n",
    "        \n",
    "    clf = svm.SVC()\n",
    "    print(type(images_train))\n",
    "    clf.fit(images_train,y_train)\n",
    "    y_pred = clf.predict(images_test)\n",
    "    \n",
    "    return y_pred   "
   ]
  },
  {
   "cell_type": "markdown",
   "metadata": {},
   "source": [
    "Implement LBP here:"
   ]
  },
  {
   "cell_type": "code",
   "execution_count": 13,
   "metadata": {},
   "outputs": [],
   "source": [
    "def LBP(img):\n",
    "    '''\n",
    "    Extracts LBP features from the input image.\n",
    "    \n",
    "    Parameters:\n",
    "        img(numpy.ndarray) : image data\n",
    "    outputs:\n",
    "        output: LBP features\n",
    "    '''\n",
    "    \n",
    "    input_img = img.copy()\n",
    "    output = None\n",
    "    \n",
    "    #Write your code here\n",
    "    temp = img.copy()\n",
    "    size=3//2\n",
    "    image = cv2.copyMakeBorder(img,top=size,bottom=size,left=size,right=size,borderType=cv2.BORDER_REPLICATE)\n",
    "    image1 = cv2.copyMakeBorder(img,top=size,bottom=size,left=size,right=size,borderType=cv2.BORDER_REPLICATE)\n",
    "    output = cv2.copyMakeBorder(img,top=size,bottom=size,left=size,right=size,borderType=cv2.BORDER_REPLICATE)\n",
    "    power_val = [1, 2, 4, 8, 16, 32, 64, 128]\n",
    "    for i in range(size,image.shape[0]-size):\n",
    "        for j in range(size,image.shape[1]-size):\n",
    "            val=0\n",
    "            if image[i,j]>=image[i-1,j-1]:\n",
    "                image1[i-1,j-1]=1\n",
    "                val+=image1[i-1,j-1]*power_val[0]    \n",
    "            else:\n",
    "                image1[i-1,j-1]=0\n",
    "                val+=image1[i-1,j-1]*power_val[0]\n",
    "                \n",
    "            if image[i,j]>=image[i,j-1]:\n",
    "                image[i,j-1]=1\n",
    "                val+=image[i,j-1]*power_val[1]\n",
    "            else:\n",
    "                image[i,j-1]=0\n",
    "                val+=image[i,j-1]*power_val[1]\n",
    "                \n",
    "            if image[i,j]>=image[i+1,j-1]:\n",
    "                image[i+1,j-1]=1\n",
    "                val+=image[i+1,j-1]*power_val[2]\n",
    "            else:\n",
    "                image[i+1,j-1]=0\n",
    "                val+=image[i+1,j-1]*power_val[2]\n",
    "                      \n",
    "            if image[i,j]>=image[i+1,j]:\n",
    "                image[i+1,j]=1\n",
    "                val+=image[i+1,j]*power_val[3]\n",
    "            else:\n",
    "                image[i+1,j]=0\n",
    "                val+=image[i+1,j]*power_val[3]\n",
    "            \n",
    "            if image[i,j]>=image[i+1,j+1]:\n",
    "                image[i+1,j+1]=1\n",
    "                val+=image[i+1,j+1]*power_val[4]\n",
    "            else:\n",
    "                image[i+1,j+1]=0\n",
    "                val+=image[i+1,j+1]*power_val[4]\n",
    "            \n",
    "                      \n",
    "            if image[i,j]>=image[i,j+1]:\n",
    "                image[i,j+1]=1\n",
    "                val+=image[i,j+1]*power_val[5]\n",
    "            else:\n",
    "                image[i,j+1]=0\n",
    "                val+=image[i,j+1]*power_val[5]\n",
    "                      \n",
    "            if image[i,j]>=image[i-1,j+1]:\n",
    "                image[i-1,j+1]=1\n",
    "                val+=image[i-1,j+1]*power_val[6]\n",
    "            else:\n",
    "                image[i-1,j+1]=0\n",
    "                val+=image[i-1,j+1]*power_val[6]\n",
    "                      \n",
    "            if image[i,j]>=image[i-1,j]:\n",
    "                image1[i-1,j]=1\n",
    "                val+=image[i-1,j]*power_val[7]\n",
    "            else:\n",
    "                image1[i-1,j]=0\n",
    "                val+=image[i-1,j]*power_val[7]\n",
    "                \n",
    "            output[i,j]=val\n",
    "                      \n",
    "            \n",
    "    \n",
    "    \n",
    "    return output[size:-size,size:-size]"
   ]
  },
  {
   "cell_type": "code",
   "execution_count": 16,
   "metadata": {},
   "outputs": [],
   "source": [
    "def classify_your_lbp(x_train, y_train, x_test):\n",
    "    '''\n",
    "    Classifies images by using your LBP.\n",
    "    \n",
    "    Parameters:\n",
    "        x_train(numpy.ndarray) : train data\n",
    "        y_train(numpy.ndarray) : train labels\n",
    "        x_test(numpy.ndarray) : test data\n",
    "        \n",
    "    outputs:\n",
    "        predicted_labels(numpy.ndarray): labels that predicted\n",
    "    '''\n",
    "    \n",
    "    x_t = x_train.copy()\n",
    "    y_t = y_train.copy()\n",
    "    x_te = x_test.copy()\n",
    "    predicted_labels = None\n",
    "    \n",
    "    #Write your code here\n",
    "    images_train = []\n",
    "    features_train = []\n",
    "    \n",
    "    for image in tqdm(x_train):\n",
    "        lbp_temp=LBP(image)\n",
    "        hist=np.histogram(lbp_temp)\n",
    "        images_train.append([hist])\n",
    "        \n",
    "    images_test = []\n",
    "    features_test = []\n",
    "    \n",
    "    for image in tqdm(x_test):\n",
    "        lbp_temp=LBP(image)\n",
    "        hist=np.histogram(lbp_temp)\n",
    "        images_test.append([hist])\n",
    "            \n",
    "    clf = svm.SVC()\n",
    "    print(type(images_train))\n",
    "    clf.fit(images_train,y_train)\n",
    "    y_pred = clf.predict(images_test)\n",
    "    \n",
    "    \n",
    "    \n",
    "    return predicted_labels    "
   ]
  },
  {
   "cell_type": "markdown",
   "metadata": {},
   "source": [
    "Classify images using Scikit-Image LBP."
   ]
  },
  {
   "cell_type": "code",
   "execution_count": 14,
   "metadata": {},
   "outputs": [],
   "source": [
    "def classify_skimage_lbp(x_train, y_train, x_test):\n",
    "    '''\n",
    "    Classifies images by using Scikit-Image LBP.\n",
    "    \n",
    "    Parameters:\n",
    "        x_train(numpy.ndarray) : train data\n",
    "        y_train(numpy.ndarray) : train labels\n",
    "        x_test(numpy.ndarray) : test data\n",
    "        \n",
    "    outputs:\n",
    "        predicted_labels(numpy.ndarray): labels that predicted\n",
    "    '''\n",
    "    \n",
    "    x_t = x_train.copy()\n",
    "    y_t = y_train.copy()\n",
    "    x_te = x_test.copy()\n",
    "    predicted_labels = None\n",
    "    \n",
    "    #Write your code here\n",
    "    \n",
    "    \n",
    "    return predicted_labels    "
   ]
  },
  {
   "cell_type": "markdown",
   "metadata": {},
   "source": [
    "Test your implementation (don't change this cell)."
   ]
  },
  {
   "cell_type": "code",
   "execution_count": 17,
   "metadata": {},
   "outputs": [
    {
     "name": "stderr",
     "output_type": "stream",
     "text": [
      "100%|██████████████████████████████████████████████████████████████████████████| 60000/60000 [1:05:50<00:00, 15.19it/s]\n",
      "  0%|                                                                                        | 0/10000 [00:00<?, ?it/s]\n"
     ]
    },
    {
     "ename": "NameError",
     "evalue": "name 'perimeter' is not defined",
     "output_type": "error",
     "traceback": [
      "\u001b[1;31m---------------------------------------------------------------------------\u001b[0m",
      "\u001b[1;31mNameError\u001b[0m                                 Traceback (most recent call last)",
      "\u001b[1;32m<ipython-input-17-6dfed89ecc3d>\u001b[0m in \u001b[0;36m<module>\u001b[1;34m()\u001b[0m\n\u001b[0;32m      7\u001b[0m \u001b[1;31m#evaluation(y_test, y_pred, '3b', 'using shape desacriptots')\u001b[0m\u001b[1;33m\u001b[0m\u001b[1;33m\u001b[0m\u001b[0m\n\u001b[0;32m      8\u001b[0m \u001b[0mt1\u001b[0m \u001b[1;33m=\u001b[0m \u001b[0mtime\u001b[0m\u001b[1;33m.\u001b[0m\u001b[0mtime\u001b[0m\u001b[1;33m(\u001b[0m\u001b[1;33m)\u001b[0m\u001b[1;33m\u001b[0m\u001b[0m\n\u001b[1;32m----> 9\u001b[1;33m \u001b[0my_pred\u001b[0m \u001b[1;33m=\u001b[0m \u001b[0mclassify_your_lbp\u001b[0m\u001b[1;33m(\u001b[0m\u001b[0mx_train\u001b[0m\u001b[1;33m,\u001b[0m \u001b[0my_train\u001b[0m\u001b[1;33m,\u001b[0m \u001b[0mx_test\u001b[0m\u001b[1;33m)\u001b[0m\u001b[1;33m\u001b[0m\u001b[0m\n\u001b[0m\u001b[0;32m     10\u001b[0m \u001b[0mt2\u001b[0m \u001b[1;33m=\u001b[0m \u001b[0mtime\u001b[0m\u001b[1;33m.\u001b[0m\u001b[0mtime\u001b[0m\u001b[1;33m(\u001b[0m\u001b[1;33m)\u001b[0m\u001b[1;33m\u001b[0m\u001b[0m\n\u001b[0;32m     11\u001b[0m \u001b[0mprint\u001b[0m\u001b[1;33m(\u001b[0m\u001b[1;34m'time for your LBP: %f s'\u001b[0m \u001b[1;33m%\u001b[0m \u001b[1;33m(\u001b[0m\u001b[0mt2\u001b[0m \u001b[1;33m-\u001b[0m \u001b[0mt1\u001b[0m\u001b[1;33m)\u001b[0m\u001b[1;33m)\u001b[0m\u001b[1;33m\u001b[0m\u001b[0m\n",
      "\u001b[1;32m<ipython-input-16-642a6583b132>\u001b[0m in \u001b[0;36mclassify_your_lbp\u001b[1;34m(x_train, y_train, x_test)\u001b[0m\n\u001b[0;32m     32\u001b[0m         \u001b[0mlbp_temp\u001b[0m\u001b[1;33m=\u001b[0m\u001b[0mLBP\u001b[0m\u001b[1;33m(\u001b[0m\u001b[0mimage\u001b[0m\u001b[1;33m)\u001b[0m\u001b[1;33m\u001b[0m\u001b[0m\n\u001b[0;32m     33\u001b[0m         \u001b[0mhist\u001b[0m\u001b[1;33m=\u001b[0m\u001b[0mnp\u001b[0m\u001b[1;33m.\u001b[0m\u001b[0mhistogram\u001b[0m\u001b[1;33m(\u001b[0m\u001b[0mlbp_temp\u001b[0m\u001b[1;33m)\u001b[0m\u001b[1;33m\u001b[0m\u001b[0m\n\u001b[1;32m---> 34\u001b[1;33m         \u001b[0mimages_test\u001b[0m\u001b[1;33m.\u001b[0m\u001b[0mappend\u001b[0m\u001b[1;33m(\u001b[0m\u001b[1;33m[\u001b[0m\u001b[0mperimeter\u001b[0m\u001b[1;33m,\u001b[0m\u001b[0marea\u001b[0m\u001b[1;33m]\u001b[0m\u001b[1;33m)\u001b[0m\u001b[1;33m\u001b[0m\u001b[0m\n\u001b[0m\u001b[0;32m     35\u001b[0m \u001b[1;33m\u001b[0m\u001b[0m\n\u001b[0;32m     36\u001b[0m     \u001b[0mclf\u001b[0m \u001b[1;33m=\u001b[0m \u001b[0msvm\u001b[0m\u001b[1;33m.\u001b[0m\u001b[0mSVC\u001b[0m\u001b[1;33m(\u001b[0m\u001b[1;33m)\u001b[0m\u001b[1;33m\u001b[0m\u001b[0m\n",
      "\u001b[1;31mNameError\u001b[0m: name 'perimeter' is not defined"
     ]
    }
   ],
   "source": [
    "data = np.load('mnist.npz')\n",
    "\n",
    "[x_train, y_train, x_test, y_test] = data['x_train'], data['y_train'], data['x_test'], data['y_test']\n",
    "#y_pred = classify_hog(x_train, y_train, x_test)\n",
    "#evaluation(y_test, y_pred, '3a', 'using HOG')\n",
    "#y_pred = classify_shape_desc(x_train, y_train, x_test)\n",
    "#evaluation(y_test, y_pred, '3b', 'using shape desacriptots')\n",
    "t1 = time.time()\n",
    "y_pred = classify_your_lbp(x_train, y_train, x_test)\n",
    "t2 = time.time()\n",
    "print('time for your LBP: %f s' % (t2 - t1))\n",
    "evaluation(y_test, y_pred, '3c', 'using your LBP')\n",
    "t1 = time.time()\n",
    "y_pred = classify_skimage_lbp(x_train, y_train, x_test)\n",
    "t2 = time.time()\n",
    "print('time for Scikit-Image LBP: %f s' % (t2 - t1))\n",
    "evaluation(y_test, y_pred, '3d', 'using Scikit-Image LBP')"
   ]
  },
  {
   "cell_type": "markdown",
   "metadata": {},
   "source": [
    "# PART 4"
   ]
  },
  {
   "cell_type": "markdown",
   "metadata": {},
   "source": [
    "#### Use shape and geometrical features to classify two kinds of leaves."
   ]
  },
  {
   "cell_type": "markdown",
   "metadata": {},
   "source": [
    "Here is for your helper functions(optional)"
   ]
  },
  {
   "cell_type": "code",
   "execution_count": null,
   "metadata": {},
   "outputs": [],
   "source": []
  },
  {
   "cell_type": "markdown",
   "metadata": {},
   "source": [
    "Implement your code here."
   ]
  },
  {
   "cell_type": "code",
   "execution_count": null,
   "metadata": {
    "scrolled": true
   },
   "outputs": [],
   "source": [
    "def classify_leaf(image):\n",
    "    '''\n",
    "    Classifies the input image to only two classes of leaves.\n",
    "    \n",
    "    Parameters:\n",
    "        image (numpy.ndarray): The input image.\n",
    "    \n",
    "    Returns:\n",
    "        int: The class of the image. 1 == apple, 0 == linden\n",
    "    '''\n",
    "    \n",
    "    leaf_type = 0\n",
    "    \n",
    "    #Write your code here\n",
    "    \n",
    "    \n",
    "    return leaf_type"
   ]
  },
  {
   "cell_type": "markdown",
   "metadata": {},
   "source": [
    "Test your implementation (don't change this cell)."
   ]
  },
  {
   "cell_type": "code",
   "execution_count": 55,
   "metadata": {
    "scrolled": false
   },
   "outputs": [
    {
     "ename": "NameError",
     "evalue": "name 'classify_leaf' is not defined",
     "output_type": "error",
     "traceback": [
      "\u001b[1;31m---------------------------------------------------------------------------\u001b[0m",
      "\u001b[1;31mNameError\u001b[0m                                 Traceback (most recent call last)",
      "\u001b[1;32m<ipython-input-55-79f8360f819c>\u001b[0m in \u001b[0;36m<module>\u001b[1;34m()\u001b[0m\n\u001b[0;32m      3\u001b[0m \u001b[1;32mfor\u001b[0m \u001b[0mi\u001b[0m \u001b[1;32min\u001b[0m \u001b[0mrange\u001b[0m\u001b[1;33m(\u001b[0m\u001b[1;36m1\u001b[0m\u001b[1;33m,\u001b[0m\u001b[1;36m5\u001b[0m\u001b[1;33m)\u001b[0m\u001b[1;33m:\u001b[0m\u001b[1;33m\u001b[0m\u001b[0m\n\u001b[0;32m      4\u001b[0m     \u001b[0mimage\u001b[0m \u001b[1;33m=\u001b[0m \u001b[0mcv2\u001b[0m\u001b[1;33m.\u001b[0m\u001b[0mimread\u001b[0m\u001b[1;33m(\u001b[0m\u001b[0mos\u001b[0m\u001b[1;33m.\u001b[0m\u001b[0mpath\u001b[0m\u001b[1;33m.\u001b[0m\u001b[0mjoin\u001b[0m\u001b[1;33m(\u001b[0m\u001b[1;34m'images'\u001b[0m\u001b[1;33m,\u001b[0m \u001b[1;34m'apple'\u001b[0m\u001b[1;33m,\u001b[0m \u001b[1;34m'{}.jpg'\u001b[0m\u001b[1;33m.\u001b[0m\u001b[0mformat\u001b[0m\u001b[1;33m(\u001b[0m\u001b[0mi\u001b[0m\u001b[1;33m)\u001b[0m\u001b[1;33m)\u001b[0m\u001b[1;33m)\u001b[0m\u001b[1;33m\u001b[0m\u001b[0m\n\u001b[1;32m----> 5\u001b[1;33m     \u001b[0mleaf_type\u001b[0m \u001b[1;33m=\u001b[0m \u001b[0mclassify_leaf\u001b[0m\u001b[1;33m(\u001b[0m\u001b[0mimage\u001b[0m\u001b[1;33m)\u001b[0m\u001b[1;33m\u001b[0m\u001b[0m\n\u001b[0m\u001b[0;32m      6\u001b[0m     \u001b[0merror\u001b[0m \u001b[1;33m+=\u001b[0m \u001b[0mint\u001b[0m\u001b[1;33m(\u001b[0m\u001b[0mleaf_type\u001b[0m\u001b[1;33m==\u001b[0m\u001b[1;36m1\u001b[0m\u001b[1;33m)\u001b[0m\u001b[1;33m\u001b[0m\u001b[0m\n\u001b[0;32m      7\u001b[0m     \u001b[0mimage_list\u001b[0m\u001b[1;33m.\u001b[0m\u001b[0mappend\u001b[0m\u001b[1;33m(\u001b[0m\u001b[1;33m[\u001b[0m\u001b[0mcv2\u001b[0m\u001b[1;33m.\u001b[0m\u001b[0mcvtColor\u001b[0m\u001b[1;33m(\u001b[0m\u001b[0mimage\u001b[0m\u001b[1;33m,\u001b[0m \u001b[0mcv2\u001b[0m\u001b[1;33m.\u001b[0m\u001b[0mCOLOR_BGR2RGB\u001b[0m\u001b[1;33m)\u001b[0m\u001b[1;33m,\u001b[0m\u001b[1;34m'Apple'\u001b[0m \u001b[1;32mif\u001b[0m \u001b[0mleaf_type\u001b[0m \u001b[1;32melse\u001b[0m \u001b[1;34m'Linden'\u001b[0m \u001b[1;33m,\u001b[0m \u001b[1;34m'img'\u001b[0m\u001b[1;33m]\u001b[0m\u001b[1;33m)\u001b[0m\u001b[1;33m\u001b[0m\u001b[0m\n",
      "\u001b[1;31mNameError\u001b[0m: name 'classify_leaf' is not defined"
     ]
    }
   ],
   "source": [
    "image_list = []\n",
    "error = 0\n",
    "for i in range(1,5):\n",
    "    image = cv2.imread(os.path.join('images', 'apple', '{}.jpg'.format(i)))\n",
    "    leaf_type = classify_leaf(image)\n",
    "    error += int(leaf_type==1) \n",
    "    image_list.append([cv2.cvtColor(image, cv2.COLOR_BGR2RGB),'Apple' if leaf_type else 'Linden' , 'img'])\n",
    "for i in range(1,5):\n",
    "    image = cv2.imread(os.path.join('images', 'linden', '{}.jpg'.format(i)))\n",
    "    leaf_type = classify_leaf(image)\n",
    "    error += int(leaf_type==0) \n",
    "    image_list.append([cv2.cvtColor(image, cv2.COLOR_BGR2RGB),'Apple' if leaf_type else 'Linden' , 'img'])\n",
    "plotter(image_list, 2, 4, True, 20, 10, '4')\n",
    "print(\"Accuracy is {}%\".format(100-error/0.08))"
   ]
  },
  {
   "cell_type": "markdown",
   "metadata": {},
   "source": [
    "To create proper files for sending in the Quera run this cell, please."
   ]
  },
  {
   "cell_type": "code",
   "execution_count": 18,
   "metadata": {},
   "outputs": [],
   "source": [
    "!python notebook_converter.py"
   ]
  },
  {
   "cell_type": "markdown",
   "metadata": {},
   "source": [
    "End!!!"
   ]
  }
 ],
 "metadata": {
  "kernelspec": {
   "display_name": "Python 3",
   "language": "python",
   "name": "python3"
  },
  "language_info": {
   "codemirror_mode": {
    "name": "ipython",
    "version": 3
   },
   "file_extension": ".py",
   "mimetype": "text/x-python",
   "name": "python",
   "nbconvert_exporter": "python",
   "pygments_lexer": "ipython3",
   "version": "3.6.2"
  }
 },
 "nbformat": 4,
 "nbformat_minor": 4
}
